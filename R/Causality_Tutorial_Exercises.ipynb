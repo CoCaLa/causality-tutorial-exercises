{
 "cells": [
  {
   "cell_type": "markdown",
   "metadata": {
    "id": "aaQIJ9pj4Rqv"
   },
   "source": [
    "# Causality Tutorial Exercises – R\n",
    "\n",
    "Contributors: Rune Christiansen, Jonas Peters, Niklas Pfister, Sorawit Saengkyongam, Sebastian Weichwald.\n",
    "The MIT License applies; copyright is with the authors.\n",
    "Some exercises are adapted from \"Elements of Causal Inference: Foundations and Learning Algorithms\" by J. Peters, D. Janzing and B. Schölkopf.\n"
   ]
  },
  {
   "cell_type": "markdown",
   "metadata": {
    "id": "bobON40QU5hk"
   },
   "source": [
    "# Exercise 1 – Structural Causal Model"
   ]
  },
  {
   "cell_type": "markdown",
   "metadata": {
    "id": "qhShyZbusKxG"
   },
   "source": [
    "Let's first draw a sample from an SCM"
   ]
  },
  {
   "cell_type": "code",
   "execution_count": null,
   "metadata": {
    "id": "UAD0hTOf9Sh1"
   },
   "outputs": [],
   "source": [
    "set.seed(1)\n",
    "\n",
    "n <- 200\n",
    "C <- rnorm(n)\n",
    "A <- 0.8*rnorm(n)\n",
    "K <- A + 0.1*rnorm(n)\n",
    "X <- C - 2*A + 0.2*rnorm(n)\n",
    "F <- 3*X + 0.8*rnorm(n)\n",
    "D <- -2*X + 0.5*rnorm(n)\n",
    "G <- D + 0.5*rnorm(n)\n",
    "Y <- 2*K - D + 0.2*rnorm(n)\n",
    "H <- 0.5*Y + 0.1*rnorm(n)\n",
    "\n",
    "data.obs <- cbind(C, A, K, X, F, D, G, Y, H)"
   ]
  },
  {
   "cell_type": "markdown",
   "metadata": {
    "id": "8PMvvEeIoKFN"
   },
   "source": [
    "__a)__\n",
    "\n",
    "What are the parents and children of $X$ in the above SCM ?\n",
    "\n",
    "Take a pair of variables and think about whether you expect this pair to be dependent\n",
    "(at this stage, you can only guess, later you will have tools to know). Check empirically.\n",
    "\n",
    "__b)__\n",
    "\n",
    "Generate a sample of size 300 from the interventional distribution $P_{\\mathrm{do}(X=\\mathcal{N}(2, 1))}$\n",
    "and store the data matrix as `data.int`."
   ]
  },
  {
   "cell_type": "code",
   "execution_count": null,
   "metadata": {
    "id": "bokBGvsmVCQJ"
   },
   "outputs": [],
   "source": []
  },
  {
   "cell_type": "markdown",
   "metadata": {
    "id": "l3wOg_4vozpz"
   },
   "source": [
    "__c)__\n",
    "\n",
    "Do you expect the marginal distribution of $Y$ to be different in both samples?"
   ]
  },
  {
   "cell_type": "markdown",
   "metadata": {
    "id": "3paV1bkro6lV"
   },
   "source": [
    "Double-click (or enter) to edit"
   ]
  },
  {
   "cell_type": "markdown",
   "metadata": {
    "id": "CH9Tt444o-RH"
   },
   "source": [
    "__d)__\n",
    "\n",
    "Do you expect the joint distribution of $(A, Y)$ to be different in both samples?\n"
   ]
  },
  {
   "cell_type": "markdown",
   "metadata": {
    "id": "FJz4fZKEpE4-"
   },
   "source": [
    "Double-click (or enter) to edit"
   ]
  },
  {
   "cell_type": "markdown",
   "metadata": {
    "id": "eZmh_AizpGp-"
   },
   "source": [
    "__e)__\n",
    "\n",
    "Check your answers to c) and d) empirically."
   ]
  },
  {
   "cell_type": "code",
   "execution_count": null,
   "metadata": {
    "id": "ZMiVnsjeVC2-"
   },
   "outputs": [],
   "source": []
  },
  {
   "cell_type": "markdown",
   "metadata": {
    "id": "ZjECw2eiVFjC"
   },
   "source": [
    "# Exercise 2 – Adjusting"
   ]
  },
  {
   "cell_type": "markdown",
   "metadata": {
    "id": "il0b9fnVq-bz"
   },
   "source": [
    "\n",
    "![DAG](https://raw.githubusercontent.com/sweichwald/causality-tutorial-exercises/main/data/Exercise-ANM.png)\n",
    "\n",
    "Suppose we are given a fixed DAG (like the one above).\n",
    "\n",
    "a) What are valid adjustment sets (VAS) used for?\n",
    "\n",
    "b) Assume we want to find a VAS for the causal effect from $X$ to $Y$.\n",
    "What are general recipies (plural 😉) for constructing VASs (no proof)?\n",
    "Which sets are VAS in the DAG above?\n",
    "\n",
    "c) The following code samples from an SCM. Perform linear regressions using different VAS and compare the regression coefficient against the causal effect from $X$ to $Y$.\n"
   ]
  },
  {
   "cell_type": "code",
   "execution_count": null,
   "metadata": {
    "id": "IaJjtEMUoO1I"
   },
   "outputs": [],
   "source": [
    "set.seed(1)\n",
    "\n",
    "n <- 200\n",
    "C <- rnorm(n)\n",
    "A <- 0.8*rnorm(n)\n",
    "K <- A + 1.1*rnorm(n)\n",
    "X <- C - 2*A + 0.2*rnorm(n)\n",
    "F <- 3*X + 0.8*rnorm(n)\n",
    "D <- -2*X + 0.5*rnorm(n)\n",
    "G <- D + 0.5*rnorm(n)\n",
    "Y <- 2*K - D + 0.2*rnorm(n)\n",
    "H <- 0.5*Y + 0.1*rnorm(n)\n",
    "\n",
    "data.obs <- cbind(C, A, K, X, F, D, G, Y, H)"
   ]
  },
  {
   "cell_type": "markdown",
   "metadata": {
    "id": "xC4_cF0XoQqN"
   },
   "source": [
    "d) Why could it be interesting to have several options for choosing a VAS?\n",
    "\n",
    "e) If you indeed have access to several VASs, what would you do?"
   ]
  },
  {
   "cell_type": "markdown",
   "metadata": {
    "id": "LQ7RuuF4rMD6"
   },
   "source": [
    "# Exercise 3 – Independence-based Causal Structure Learning"
   ]
  },
  {
   "cell_type": "markdown",
   "metadata": {
    "id": "p21N9AFBrB0o"
   },
   "source": [
    "__a)__\n",
    "\n",
    "Assume $P^{X,Y,Z}$ is Markov and faithful wrt. $G$. Assume all (!) conditional independences are\n",
    "\n",
    "$$\n",
    "\\newcommand{\\indep}{{\\,⫫\\,}}\n",
    "\\newcommand{\\dep}{\\not{}\\!\\!\\indep}\n",
    "$$\n",
    "\n",
    "$$X \\dep Z \\mid \\emptyset$$\n",
    "\n",
    "(plus symmetric statements). What is $G$?\n",
    "\n",
    "__b)__\n",
    "\n",
    "Assume $P^{W,X,Y,Z}$ is Markov and faithful wrt. $G$. Assume all (!) conditional independences are\n",
    "\n",
    "$$\\begin{aligned}\n",
    "(Y,Z) &\\indep W \\mid \\emptyset \\\\\n",
    "W &\\indep Y \\mid (X,Z) \\\\\n",
    "(X,W) &\\indep Y | Z\n",
    "\\end{aligned}\n",
    "$$\n",
    "\n",
    "(plus symmetric statements). What is $G$?"
   ]
  },
  {
   "cell_type": "markdown",
   "metadata": {
    "id": "DtBvbvkNWXSo"
   },
   "source": [
    "# Exercise 4 – Additive Noise Models"
   ]
  },
  {
   "cell_type": "markdown",
   "metadata": {
    "id": "4ONM6ulNwWpk"
   },
   "source": [
    "Set-up required packages:"
   ]
  },
  {
   "cell_type": "code",
   "execution_count": null,
   "metadata": {
    "id": "jqnELcs_pI32"
   },
   "outputs": [],
   "source": [
    "# set up – not needed when run on mybinder\n",
    "# if needed (colab), change FALSE to TRUE and run cell\n",
    "if (FALSE) {\n",
    "  install.packages('dHSIC')\n",
    "}"
   ]
  },
  {
   "cell_type": "code",
   "execution_count": null,
   "metadata": {
    "id": "vcH5XTGNweBH"
   },
   "outputs": [],
   "source": [
    "library(mgcv)\n",
    "library(dHSIC)"
   ]
  },
  {
   "cell_type": "markdown",
   "metadata": {
    "id": "hXoqFwV0wiGT"
   },
   "source": [
    "Let's load and plot some real data set:"
   ]
  },
  {
   "cell_type": "code",
   "execution_count": null,
   "metadata": {
    "id": "X10gfbouWe7z"
   },
   "outputs": [],
   "source": [
    "# Load some real data set\n",
    "real.dat <- read.csv('https://raw.githubusercontent.com/sweichwald/causality-tutorial-exercises/main/data/Exercise-ANM.csv')\n",
    "Y <- real.dat[, \"Y\"]\n",
    "X <- real.dat[, \"X\"]\n",
    "\n",
    "# Let us plot the data\n",
    "par(mfrow=c(1,1))\n",
    "plot(X, Y, pch = 19, cex = .8)"
   ]
  },
  {
   "cell_type": "markdown",
   "metadata": {
    "id": "XV-Pvjsqx7Fz"
   },
   "source": [
    "__a)__\n",
    "\n",
    "Do you believed that $X \\to Y$ or that $X \\gets Y$? Why?"
   ]
  },
  {
   "cell_type": "markdown",
   "metadata": {
    "id": "QUv9ROdOyCXB"
   },
   "source": [
    "Double-click (or enter) to edit"
   ]
  },
  {
   "cell_type": "markdown",
   "metadata": {
    "id": "QiiEy1rtyOYZ"
   },
   "source": [
    "$$\n",
    "\\newcommand{\\indep}{{\\,⫫\\,}}\n",
    "\\newcommand{\\dep}{\\not{}\\!\\!\\indep}\n",
    "$$\n",
    "\n",
    "__b)__\n",
    "Let us now try to get a more statistical answer. We have heard that we cannot \n",
    "have  \n",
    "$$Y = f(X) + N_Y,\\ N_Y \\indep X$$\n",
    "and\n",
    "$$X = g(Y) + N_X,\\ N_X \\indep Y$$\n",
    "at the same time.\n",
    "\n",
    "Given a data set over $(X,Y)$,\n",
    "we now want to decide for one of the two models. \n",
    "\n",
    "Come up with a method to do so.\n",
    "\n",
    "Hints: \n",
    "* `gam(B ∼ s(A))$residuals` provides residuals when regressing $B$ on $A$. \n",
    "* `dhsic.test` (with `method = \"gamma\"`) can be used as an independence test."
   ]
  },
  {
   "cell_type": "code",
   "execution_count": null,
   "metadata": {
    "id": "gkvF9mjzW4tS"
   },
   "outputs": [],
   "source": []
  },
  {
   "cell_type": "markdown",
   "metadata": {
    "id": "Ff7xkIzByx8X"
   },
   "source": [
    "__c)__\n",
    "\n",
    "Assume that the error terms are Gaussian with zero mean and variances \n",
    "$\\sigma_X^2$ and $\\sigma_Y^2$, respectively.\n",
    "The maximum likelihood for DAG G is \n",
    "then proportional to \n",
    "$-\\log(\\mathrm{var}(R^G_X)) - \\log(\\mathrm{var}(R^G_Y))$,\n",
    "where $R^G_X$ and $R^G_Y$ are the residuals obtained from regressing $X$ and $Y$ on \n",
    "their parents in $G$, respectively (no proof).\n",
    "\n",
    "Find the maximum likelihood solution."
   ]
  },
  {
   "cell_type": "code",
   "execution_count": null,
   "metadata": {
    "id": "fUB-zlgwW6FS"
   },
   "outputs": [],
   "source": []
  },
  {
   "cell_type": "markdown",
   "metadata": {
    "id": "iPgnXJvlXAc4"
   },
   "source": [
    "# Exercise 5 – Invariant Causal Prediction"
   ]
  },
  {
   "cell_type": "markdown",
   "metadata": {
    "id": "-cuaTYbq09wN"
   },
   "source": [
    "__a)__\n",
    "\n",
    "Generate some observational and interventional data:"
   ]
  },
  {
   "cell_type": "code",
   "execution_count": null,
   "metadata": {
    "id": "4OPBqL5jXHqZ"
   },
   "outputs": [],
   "source": [
    "# Generate n=1000 observations from the observational distribution\n",
    "na <- 1000\n",
    "Xa <- rnorm(na)\n",
    "Ya <- 1.5*Xa + rnorm(na)\n",
    "\n",
    "# Generate n=1000 observations from an interventional distribution\n",
    "nb <- 1000\n",
    "Xb <- rnorm(nb, 2, 1)\n",
    "Yb <- 1.5*Xb + rnorm(nb)\n",
    "red <- rgb(1,0,0,alpha=0.4)\n",
    "blue <- rgb(0,0,1,alpha=0.4)\n",
    "\n",
    "# plot Y vs X1\n",
    "plot(Xa,Ya,pch=16,col=blue,xlim=range(c(Xa,Xb)),ylim=range(c(Ya,Yb)),xlab=\"X\",ylab=\"Y\")\n",
    "points(Xb,Yb,pch=17,col=red)\n",
    "legend(\"topright\",c(\"observational\",\"interventional\"),pch=c(16,17),col=c(blue,red),inset=0.02)"
   ]
  },
  {
   "cell_type": "markdown",
   "metadata": {
    "id": "uZcSibWjypDR"
   },
   "source": [
    "Look at the above plot. Is the predictor $\\{X\\}$ an invariant set, that is (roughly speaking), does $Y \\mid X = x$ have the same distribution in the red and blue data?"
   ]
  },
  {
   "cell_type": "markdown",
   "metadata": {
    "id": "rhnmzEIiyvmt"
   },
   "source": [
    "Double-click (or enter) to edit"
   ]
  },
  {
   "cell_type": "markdown",
   "metadata": {
    "id": "z0PC0Vy01BNc"
   },
   "source": [
    "__b)__"
   ]
  },
  {
   "cell_type": "markdown",
   "metadata": {
    "id": "5bzqWqn61JNU"
   },
   "source": [
    "We now consider data over a response and three covariates $X1, X2$, and $X3$\n",
    "and try to infer $\\mathrm{pa}(Y)$. To do so, we need to find all sets for which this\n",
    "invariance is satisfied."
   ]
  },
  {
   "cell_type": "code",
   "execution_count": null,
   "metadata": {
    "id": "Al8FBjpXXSDV"
   },
   "outputs": [],
   "source": [
    "data <- as.matrix(read.csv('https://raw.githubusercontent.com/sweichwald/causality-tutorial-exercises/main/data/Exercise-ICP.csv'))\n",
    "pairs(data, col = c(rep(1,140), rep(2,80)))\n",
    "\n",
    "# The code below plots the residuals versus fitted values for all sets of \n",
    "# predictors. \n",
    "# extract response and predictors\n",
    "Y <- data[,1]\n",
    "Xmat  <- data[,2:4]\n",
    "S <- list( c(1), c(2), c(3), c(1,2), c(1,3), c(2,3), c(1,2,3))\n",
    "resid <- fitted <- vector(\"list\", length(S))\n",
    "for(i in 1:length(S)){\n",
    "  modelfit <- lm.fit(Xmat[,S[[i]],drop=FALSE], Y)\n",
    "  resid[[i]] <- modelfit$residuals\n",
    "  fitted[[i]] <- modelfit$fitted.values\n",
    "}\n",
    "env <- c(rep(0,140),rep(1,80))\n",
    "par(mfrow=c(2,2))\n",
    "red <- rgb(1,0,0,alpha=0.4)\n",
    "blue <- rgb(0,0,1,alpha=0.4)\n",
    "names <- c(\"X1\", \"X2\", \"X3\", \"X1, X2\", \"X1, X3\", \"X2, X3\", \"X1, X2, X3\")\n",
    "plot((1:length(Y))[env==0], Y[env==0], pch=16, col=blue, xlim=c(0,220), ylim=range(Y), xlab=\"index\", ylab=\"Y\", main=\"empty set\")\n",
    "points((1:length(Y))[env==1], Y[env==1], pch=17, col=red)\n",
    "legend(\"topleft\",c(\"observational\",\"interventional\"),pch=c(16,17),col=c(blue,red),inset=0.02)\n",
    "for(i in 1:length(S)){\n",
    "  plot(fitted[[i]][env==0], resid[[i]][env==0], pch=16, col=blue, xlim=range(fitted[[i]]), ylim=range(resid[[i]]), xlab=\"fitted values\", ylab=\"residuals\", main=names[i])\n",
    "  points(fitted[[i]][env==1], resid[[i]][env==1], pch=17, col=red)\n",
    "  legend(\"topleft\",c(\"observational\",\"interventional\"),pch=c(16,17),col=c(blue,red),inset=0.02)\n",
    "}\n"
   ]
  },
  {
   "cell_type": "markdown",
   "metadata": {
    "id": "1GfZKCL7zJve"
   },
   "source": [
    "Which of the sets are invariant? (There are two plots with four scatter plots each.)"
   ]
  },
  {
   "cell_type": "markdown",
   "metadata": {
    "id": "j0sgjfRSzWEt"
   },
   "source": [
    "Double-click (or enter) to edit"
   ]
  },
  {
   "cell_type": "markdown",
   "metadata": {
    "id": "AO7tZSjLzMr0"
   },
   "source": [
    "__c)__\n",
    "What is your best guess for $\\mathrm{pa}(Y)$?"
   ]
  },
  {
   "cell_type": "markdown",
   "metadata": {
    "id": "B6QtA9p9zdD7"
   },
   "source": [
    "Double-click (or enter) to edit"
   ]
  },
  {
   "cell_type": "markdown",
   "metadata": {
    "id": "qU-jIHvX1rRU"
   },
   "source": [
    "__d) (optional, and R only)__\n",
    "\n",
    "Use the function ICP to check your result."
   ]
  },
  {
   "cell_type": "code",
   "execution_count": null,
   "metadata": {
    "id": "bc1nr0TgpNrb"
   },
   "outputs": [],
   "source": [
    "# set up – not needed when run on mybinder\n",
    "# if needed (colab), change FALSE to TRUE and run cell\n",
    "if (FALSE) {\n",
    "  install.packages('InvariantCausalPrediction')\n",
    "}"
   ]
  },
  {
   "cell_type": "code",
   "execution_count": null,
   "metadata": {
    "id": "FGiVa_SDXTPc"
   },
   "outputs": [],
   "source": [
    "library(InvariantCausalPrediction)"
   ]
  },
  {
   "cell_type": "code",
   "execution_count": null,
   "metadata": {
    "id": "3biDbx4F8lXc"
   },
   "outputs": [],
   "source": []
  }
 ],
 "metadata": {
  "colab": {
   "collapsed_sections": [],
   "name": "Causality Tutorial Exercises – R",
   "provenance": [],
   "toc_visible": true
  },
  "kernelspec": {
   "display_name": "R",
   "name": "ir"
  }
 },
 "nbformat": 4,
 "nbformat_minor": 1
}
