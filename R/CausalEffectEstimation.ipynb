{
 "cells": [
  {
   "cell_type": "markdown",
   "id": "f3221d93-9749-42c3-a67e-030c52da3489",
   "metadata": {},
   "source": [
    "# Causal Effect Estimation"
   ]
  },
  {
   "cell_type": "markdown",
   "id": "640cb867-5630-4d08-8891-0593152b7696",
   "metadata": {},
   "source": [
    "### Generate data\n",
    "\n",
    "We start by generating data from the following SCM"
   ]
  },
  {
   "cell_type": "code",
   "execution_count": null,
   "id": "fe6c042a-45f4-4360-9a71-dbd03e9d330a",
   "metadata": {},
   "outputs": [],
   "source": [
    "set.seed(1)\n",
    "\n",
    "generate_data <- function(){\n",
    "    n <- 200\n",
    "    V <- rbinom(n, 1, 0.2)\n",
    "    W <- 3*V + rnorm(n)\n",
    "    X <- V + rnorm(n)\n",
    "    Y <- X + W^2 + 1 + rnorm(n)\n",
    "    Z <- X + Y + rnorm(n)\n",
    "    data.obs <- data.frame(V=V, W=W, X=X, Y=Y, Z=Z)\n",
    "    return(data.obs)\n",
    "}\n",
    "\n",
    "data.obs <- generate_data()\n",
    "\n",
    "# Visualize data set\n",
    "pairs(data.obs)"
   ]
  },
  {
   "cell_type": "markdown",
   "id": "fd21e89c-7a40-4a65-bbb3-b890b83ff13f",
   "metadata": {},
   "source": [
    "Assume now that we know the causal ordering induced by the SCM and that\n",
    "* $X$ is a treatment variable,\n",
    "* $Y$ is the response and\n",
    "* $(V, W, Z)$ are additional covariates.\n",
    "\n",
    "Furthermore we will assume a partially linear outcome model, i.e., \n",
    "$$Y = \\theta X + g(V, W) + \\epsilon\\quad \\text{with}\\quad\\mathbb{E}[\\epsilon\\mid X, V, W]=0.$$\n",
    "\n",
    "We are interested in estimating the causal effect of $X$ on $Y$, corresponding to the parameter $\\theta$ in the partially linear model."
   ]
  },
  {
   "cell_type": "markdown",
   "id": "ab3a7a81-6981-4070-bad7-6359881c1f41",
   "metadata": {},
   "source": [
    "### Confounding and selection bias"
   ]
  },
  {
   "cell_type": "markdown",
   "id": "f82d256d-2b0a-43ae-b4ae-c74c6fa71e85",
   "metadata": {},
   "source": [
    "Ignoring the causal structure can lead to wrong conclusions. In the following exercise, we will see the two most important types of bias that may occur:\n",
    "* **Confounding bias:** Bias arising because of unaccounted variables that have an effect on both treatment and response.\n",
    "* **Selection bias:** Bias arising due to conditioning on descendents of the response. This can occur either if we only observe a subset of the entire sample or if we mistakenly include a descendent of the response in the outcome model."
   ]
  },
  {
   "cell_type": "markdown",
   "id": "3ece6cd2-901f-4330-8a4a-4f7f2de0169a",
   "metadata": {},
   "source": [
    "#### Exercise 1\n",
    "\n",
    "**(a)** Below we fitted several different outcome models. Compare the resulting coefficients for $X$. Which regressions appear to lead to unbiased estimates of the causal effect?"
   ]
  },
  {
   "cell_type": "code",
   "execution_count": null,
   "id": "a84baea5-9bf1-481e-b6c7-de1ba0becbea",
   "metadata": {},
   "outputs": [],
   "source": [
    "library(gam)\n",
    "\n",
    "# linear model of Y on X\n",
    "lin_YX <- lm(Y ~ X, data=data.obs)\n",
    "# linear model of Y on X and V\n",
    "lin_YV <- lm(Y ~ X + V, data=data.obs)\n",
    "# linear model Y on X and W\n",
    "lin_YW <- lm(Y ~ X + W, data=data.obs)\n",
    "# gam model of Y on X and s(W)\n",
    "gam_YW <- gam(Y ~ X + s(W), data=data.obs)\n",
    "# gam model of Y on X, V and s(W)\n",
    "gam_YVW <- gam(Y ~ X + V + s(W), data=data.obs)\n",
    "# gam model of Y on X, V, s(W), s(Z)\n",
    "gam_YVWZ <- lm(Y ~ X + V + W + Z, data=data.obs)\n",
    "\n",
    "# Print each model\n",
    "results = list(linear_X = unname(coefficients(lin_YX)['X']),\n",
    "               linear_V = unname(coefficients(lin_YV)['X']),\n",
    "               linear_W = unname(coefficients(lin_YW)['X']),\n",
    "               gam_W = unname(coefficients(gam_YW)['X']),\n",
    "               gam_VW = unname(coefficients(gam_YVW)['X']),\n",
    "               gam_VWZ = unname(coefficients(gam_YVWZ)['X']))\n",
    "results"
   ]
  },
  {
   "cell_type": "markdown",
   "id": "947d8bcc-3b14-496d-a1d6-e0d28facaf7e",
   "metadata": {},
   "source": [
    "**(b)** List all valid adjustment sets for this causal structure."
   ]
  },
  {
   "cell_type": "markdown",
   "id": "f7bf0258-91b8-4f3c-b1b2-51a5778b6845",
   "metadata": {},
   "source": [
    "The valid adjustment sets are: $(X, V)$, $(X, W)$ and $(X, V, W)$"
   ]
  },
  {
   "cell_type": "markdown",
   "id": "24b5d44b-88bb-4c45-b5d9-c878713acd4e",
   "metadata": {},
   "source": [
    "**(c)** Assume now that you only have access to the subset $\\texttt{data.cond}$ constructed below. Use a gam regression Y ~ X + s(W) to estimate the causal effect. What do you observe?"
   ]
  },
  {
   "cell_type": "code",
   "execution_count": null,
   "id": "398f64b9-27bb-4d7b-9708-4b73bf6c9239",
   "metadata": {},
   "outputs": [],
   "source": [
    "data.cond = data.obs[data.obs$Z<1,]"
   ]
  },
  {
   "cell_type": "code",
   "execution_count": null,
   "id": "7c9a8a4d-e0c7-4fef-8463-fd33d47c0e52",
   "metadata": {},
   "outputs": [],
   "source": [
    "# Fit outcome model\n",
    "gam_YW <- gam(Y ~ X + s(W), data=data.cond)\n",
    "print(unname(coefficients(gam_YW)['X']))"
   ]
  },
  {
   "cell_type": "markdown",
   "id": "87737cdf-1cc0-48bc-84cd-23345c991feb",
   "metadata": {},
   "source": [
    "Since the data set $\\texttt{data.cond}$ was constructed by conditioning on the variable $Z$, which is a a descendent of the response, the causal effect estimate has a selection bias."
   ]
  },
  {
   "cell_type": "markdown",
   "id": "3380c91b-d0dc-4536-912f-092d8c0e2b7f",
   "metadata": {},
   "source": [
    "### Outcome model estimation (aka Adjustment)"
   ]
  },
  {
   "cell_type": "code",
   "execution_count": null,
   "id": "7ff48e57-7d0e-452d-be88-9988b78d58bf",
   "metadata": {},
   "outputs": [],
   "source": [
    "library(gam)"
   ]
  },
  {
   "cell_type": "code",
   "execution_count": null,
   "id": "ea4d792a-9df1-427e-b807-689cb22e4288",
   "metadata": {},
   "outputs": [],
   "source": [
    "# Fit outcome model\n",
    "gamfit <- gam(Y ~ X + s(W), data=data.obs)\n",
    "summary(gamfit)\n",
    "\n",
    "# Extract estimator\n",
    "ate_outcome <- unname(coefficients(gamfit)['X'])\n",
    "coefficients(gamfit)"
   ]
  },
  {
   "cell_type": "markdown",
   "id": "822010d9-43d6-461a-b49f-91b163c2e27a",
   "metadata": {},
   "source": [
    "### Propensity score matching"
   ]
  },
  {
   "cell_type": "code",
   "execution_count": null,
   "id": "e06fc982-9f5b-4f0d-90ed-3a8cf0ce1d54",
   "metadata": {},
   "outputs": [],
   "source": [
    "library(MatchIt)\n",
    "\n",
    "# Create binary treatment (more complicated matching procedures also exist of continuous responses)\n",
    "data.matching <- data.obs\n",
    "T <- as.numeric(X > median(X))\n",
    "upperT <- mean(X[T == 1])\n",
    "lowerT <- mean(X[T == 0])\n",
    "adjust_factor <- upperT-lowerT\n",
    "data.matching$T <- T\n",
    "print(adjust_factor)\n",
    "\n",
    "lmfit <- lm(Y ~ T, data = data.matching)\n",
    "coefficients(lmfit)['T']/adjust_factor"
   ]
  },
  {
   "cell_type": "code",
   "execution_count": null,
   "id": "ef62feec-9813-4939-b49b-ec88a8bfc532",
   "metadata": {},
   "outputs": [],
   "source": [
    "# Create a matching object without matching to check if confounding exists\n",
    "match0 <- matchit(T ~ V, data = data.matching,\n",
    "                  method = NULL, distance = \"glm\")\n",
    "summary(match0)\n",
    "plot(match0, type=\"density\")"
   ]
  },
  {
   "cell_type": "code",
   "execution_count": null,
   "id": "73818b01-e0ad-4547-9da6-a704b0f3b159",
   "metadata": {},
   "outputs": [],
   "source": [
    "# Match and check if its better\n",
    "match1 <- matchit(T ~ V, data = data.matching,\n",
    "                  method = \"nearest\", distance = \"glm\")\n",
    "plot(match1, type=\"density\")"
   ]
  },
  {
   "cell_type": "code",
   "execution_count": null,
   "id": "23c795d8-8b97-4351-9a10-080f4b61f8e8",
   "metadata": {},
   "outputs": [],
   "source": [
    "# Match with a different method and check if its better\n",
    "match2 <- matchit(T ~ V, data = data.matching,\n",
    "                  method = \"cem\", distance = \"glm\")\n",
    "plot(match2, type=\"density\")\n",
    "summary(match2)"
   ]
  },
  {
   "cell_type": "code",
   "execution_count": null,
   "id": "9d307c41-fc10-467d-bbfb-3578729efddd",
   "metadata": {},
   "outputs": [],
   "source": [
    "# Create matched data\n",
    "data.matched <- match.data(match2)\n",
    "\n",
    "# Fit outcome model\n",
    "gamfit_matched <- gam(Y ~ T, data = data.matched, weights=weights)\n",
    "summary(gamfit_matched)\n",
    "ate_matching <- unname(coefficients(gamfit_matched)['T'])/adjust_factor"
   ]
  },
  {
   "cell_type": "markdown",
   "id": "2fad4013-bff5-4c6e-8df3-8d04f1595afb",
   "metadata": {},
   "source": [
    "### Propensity score weighting (aka Inverse propability weighting)"
   ]
  },
  {
   "cell_type": "code",
   "execution_count": null,
   "id": "fe410c60-e18a-4416-ab12-6425bd808115",
   "metadata": {},
   "outputs": [],
   "source": [
    "library(WeightIt)"
   ]
  },
  {
   "cell_type": "code",
   "execution_count": null,
   "id": "aa4d56a8-46b6-4187-bfb2-8dfea11a34b9",
   "metadata": {},
   "outputs": [],
   "source": [
    "weight0 <- weightit(X ~ V + W, data = data.obs, estimand = \"ATE\", method = \"glm\")\n",
    "weight0\n",
    "summary(weight0)\n",
    "hist(weight0$weights)"
   ]
  },
  {
   "cell_type": "code",
   "execution_count": null,
   "id": "d2cd4bac-ff04-4bf7-beb6-43508c8ff459",
   "metadata": {},
   "outputs": [],
   "source": [
    "# Fit outcome model\n",
    "gamfit_weighted <- gam(Y ~ X, data = data.obs, weights=weight0$weights)\n",
    "summary(gamfit_weighted)\n",
    "ate_weighting <- unname(coefficients(gamfit_weighted)['X'])"
   ]
  },
  {
   "cell_type": "markdown",
   "id": "6a3f8b77-9a78-492e-9ef6-450697391243",
   "metadata": {},
   "source": [
    "### Double ML"
   ]
  },
  {
   "cell_type": "code",
   "execution_count": null,
   "id": "991919a9-61dd-4040-b13e-f98b005ad6ae",
   "metadata": {},
   "outputs": [],
   "source": [
    "library(DoubleML)\n",
    "data.obs$T <- NULL\n",
    "data.obs$Z <- NULL"
   ]
  },
  {
   "cell_type": "code",
   "execution_count": null,
   "id": "43c809c1-62d3-4fa3-856f-c00ff124ebb8",
   "metadata": {},
   "outputs": [],
   "source": [
    "# Format the data (this object encodes the causal structure)\n",
    "obj_dml_data = DoubleMLData$new(data.obs, y_col = \"Y\", d_cols = \"X\")\n",
    "obj_dml_data"
   ]
  },
  {
   "cell_type": "code",
   "execution_count": null,
   "id": "fbb7ca01-99a9-4e1b-8e29-3a09ed86e04a",
   "metadata": {},
   "outputs": [],
   "source": [
    "# Initailize the ML learners (using mlr3 package and its extensions)\n",
    "library(mlr3)\n",
    "library(mlr3learners)\n",
    "\n",
    "# Suppress output during estimation\n",
    "lgr::get_logger(\"mlr3\")$set_threshold(\"warn\")\n",
    "\n",
    "# Learner for Y given covariates (V, W)\n",
    "ml_l = lrn(\"regr.ranger\", num.trees = 100, mtry = 2, min.node.size = 2, max.depth = 5)\n",
    "#ml_l = lrn(\"regr.lm\")\n",
    "# Learner for X given covariates (V, W)\n",
    "ml_m = lrn(\"regr.ranger\", num.trees = 100, mtry = 2, min.node.size = 2, max.depth = 5)\n",
    "#ml_m = lrn(\"regr.lm\")\n",
    "# Learner for Y-\\theta X given covariates (V, W) - only needed for score==\"IV-type\"\n",
    "# ml_g = lrn(\"regr.ranger\", num.trees = 100, mtry = 2, min.node.size = 2, max.depth = 5)"
   ]
  },
  {
   "cell_type": "code",
   "execution_count": null,
   "id": "c9ede4ab-3bca-4579-b5d9-901ef636efae",
   "metadata": {},
   "outputs": [],
   "source": [
    "# Setup DML task\n",
    "doubleml_plr = DoubleMLPLR$new(obj_dml_data,\n",
    "                               ml_l, ml_m,\n",
    "                               n_folds = 2,\n",
    "                               score = \"partialling out\")"
   ]
  },
  {
   "cell_type": "code",
   "execution_count": null,
   "id": "6dc7d02d-9296-4ad4-86d9-13ce22cc3b28",
   "metadata": {},
   "outputs": [],
   "source": [
    "# Fit DML\n",
    "doubleml_plr$fit()\n",
    "doubleml_plr$summary()\n",
    "ate_dml <- unname(doubleml_plr$all_coef[1])"
   ]
  },
  {
   "cell_type": "markdown",
   "id": "e8f21477-26cc-4ac6-b2ef-15b08fd7cbaa",
   "metadata": {},
   "source": [
    "### Compare all estimators"
   ]
  },
  {
   "cell_type": "code",
   "execution_count": null,
   "id": "3740862b-91c3-48cf-85ee-5acc55c612b4",
   "metadata": {},
   "outputs": [],
   "source": [
    "ate_estimates <- data.frame(\"Outcome model\"=ate_outcome,\n",
    "                            \"Matching\"=ate_matching,\n",
    "                            \"Weighting\"=ate_weighting,\n",
    "                            \"DML\"=ate_dml)"
   ]
  },
  {
   "cell_type": "code",
   "execution_count": null,
   "id": "3ee1a0bd-3b05-4daa-9ab7-0de9de32023e",
   "metadata": {},
   "outputs": [],
   "source": [
    "print(ate_estimates)"
   ]
  }
 ],
 "metadata": {
  "kernelspec": {
   "display_name": "R",
   "language": "R",
   "name": "ir"
  },
  "language_info": {
   "codemirror_mode": "r",
   "file_extension": ".r",
   "mimetype": "text/x-r-source",
   "name": "R",
   "pygments_lexer": "r",
   "version": "4.1.2"
  }
 },
 "nbformat": 4,
 "nbformat_minor": 5
}
